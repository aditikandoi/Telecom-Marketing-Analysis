{
 "cells": [
  {
   "cell_type": "code",
   "execution_count": 1,
   "metadata": {
    "colab": {},
    "colab_type": "code",
    "id": "idoLCSfCFywO"
   },
   "outputs": [],
   "source": [
    "#Importing various utilities and libraries\n",
    "import pandas as pd\n",
    "import numpy as np\n",
    "import sklearn\n",
    "import matplotlib.pyplot as plt"
   ]
  },
  {
   "cell_type": "code",
   "execution_count": 2,
   "metadata": {
    "colab": {
     "base_uri": "https://localhost:8080/",
     "height": 1000
    },
    "colab_type": "code",
    "id": "mvJhOLVIFywV",
    "outputId": "bad77f3b-f562-40ba-fa44-bc0527383992",
    "scrolled": true
   },
   "outputs": [
    {
     "data": {
      "text/html": [
       "<div>\n",
       "<style scoped>\n",
       "    .dataframe tbody tr th:only-of-type {\n",
       "        vertical-align: middle;\n",
       "    }\n",
       "\n",
       "    .dataframe tbody tr th {\n",
       "        vertical-align: top;\n",
       "    }\n",
       "\n",
       "    .dataframe thead th {\n",
       "        text-align: right;\n",
       "    }\n",
       "</style>\n",
       "<table border=\"1\" class=\"dataframe\">\n",
       "  <thead>\n",
       "    <tr style=\"text-align: right;\">\n",
       "      <th></th>\n",
       "      <th>age</th>\n",
       "      <th>job</th>\n",
       "      <th>marital</th>\n",
       "      <th>education</th>\n",
       "      <th>connect</th>\n",
       "      <th>balance</th>\n",
       "      <th>landline</th>\n",
       "      <th>smart</th>\n",
       "      <th>last_day</th>\n",
       "      <th>last_month</th>\n",
       "      <th>duration</th>\n",
       "      <th>campaign</th>\n",
       "      <th>passdays</th>\n",
       "      <th>previous</th>\n",
       "      <th>poutcome</th>\n",
       "      <th>target</th>\n",
       "    </tr>\n",
       "  </thead>\n",
       "  <tbody>\n",
       "    <tr>\n",
       "      <th>0</th>\n",
       "      <td>58</td>\n",
       "      <td>management</td>\n",
       "      <td>married</td>\n",
       "      <td>tertiary</td>\n",
       "      <td>no</td>\n",
       "      <td>2143</td>\n",
       "      <td>yes</td>\n",
       "      <td>no</td>\n",
       "      <td>5</td>\n",
       "      <td>may</td>\n",
       "      <td>261</td>\n",
       "      <td>1</td>\n",
       "      <td>-1</td>\n",
       "      <td>0</td>\n",
       "      <td>unknown</td>\n",
       "      <td>0</td>\n",
       "    </tr>\n",
       "    <tr>\n",
       "      <th>1</th>\n",
       "      <td>44</td>\n",
       "      <td>technician</td>\n",
       "      <td>single</td>\n",
       "      <td>secondary</td>\n",
       "      <td>no</td>\n",
       "      <td>29</td>\n",
       "      <td>yes</td>\n",
       "      <td>no</td>\n",
       "      <td>5</td>\n",
       "      <td>may</td>\n",
       "      <td>151</td>\n",
       "      <td>1</td>\n",
       "      <td>-1</td>\n",
       "      <td>0</td>\n",
       "      <td>unknown</td>\n",
       "      <td>0</td>\n",
       "    </tr>\n",
       "    <tr>\n",
       "      <th>2</th>\n",
       "      <td>33</td>\n",
       "      <td>entrepreneur</td>\n",
       "      <td>married</td>\n",
       "      <td>secondary</td>\n",
       "      <td>no</td>\n",
       "      <td>2</td>\n",
       "      <td>yes</td>\n",
       "      <td>yes</td>\n",
       "      <td>5</td>\n",
       "      <td>may</td>\n",
       "      <td>76</td>\n",
       "      <td>1</td>\n",
       "      <td>-1</td>\n",
       "      <td>0</td>\n",
       "      <td>unknown</td>\n",
       "      <td>0</td>\n",
       "    </tr>\n",
       "    <tr>\n",
       "      <th>3</th>\n",
       "      <td>51</td>\n",
       "      <td>retired</td>\n",
       "      <td>married</td>\n",
       "      <td>primary</td>\n",
       "      <td>no</td>\n",
       "      <td>229</td>\n",
       "      <td>yes</td>\n",
       "      <td>no</td>\n",
       "      <td>5</td>\n",
       "      <td>may</td>\n",
       "      <td>353</td>\n",
       "      <td>1</td>\n",
       "      <td>-1</td>\n",
       "      <td>0</td>\n",
       "      <td>unknown</td>\n",
       "      <td>0</td>\n",
       "    </tr>\n",
       "    <tr>\n",
       "      <th>4</th>\n",
       "      <td>57</td>\n",
       "      <td>blue-collar</td>\n",
       "      <td>married</td>\n",
       "      <td>primary</td>\n",
       "      <td>no</td>\n",
       "      <td>52</td>\n",
       "      <td>yes</td>\n",
       "      <td>no</td>\n",
       "      <td>5</td>\n",
       "      <td>may</td>\n",
       "      <td>38</td>\n",
       "      <td>1</td>\n",
       "      <td>-1</td>\n",
       "      <td>0</td>\n",
       "      <td>unknown</td>\n",
       "      <td>0</td>\n",
       "    </tr>\n",
       "  </tbody>\n",
       "</table>\n",
       "</div>"
      ],
      "text/plain": [
       "   age           job  marital  education connect  balance landline smart  \\\n",
       "0   58    management  married   tertiary      no     2143      yes    no   \n",
       "1   44    technician   single  secondary      no       29      yes    no   \n",
       "2   33  entrepreneur  married  secondary      no        2      yes   yes   \n",
       "3   51       retired  married    primary      no      229      yes    no   \n",
       "4   57   blue-collar  married    primary      no       52      yes    no   \n",
       "\n",
       "   last_day last_month  duration  campaign  passdays  previous poutcome  \\\n",
       "0         5        may       261         1        -1         0  unknown   \n",
       "1         5        may       151         1        -1         0  unknown   \n",
       "2         5        may        76         1        -1         0  unknown   \n",
       "3         5        may       353         1        -1         0  unknown   \n",
       "4         5        may        38         1        -1         0  unknown   \n",
       "\n",
       "   target  \n",
       "0       0  \n",
       "1       0  \n",
       "2       0  \n",
       "3       0  \n",
       "4       0  "
      ]
     },
     "execution_count": 2,
     "metadata": {},
     "output_type": "execute_result"
    }
   ],
   "source": [
    "#Read training data\n",
    "df=pd.read_excel(\"Train Data.xlsx\")\n",
    "df.head()"
   ]
  },
  {
   "cell_type": "code",
   "execution_count": 3,
   "metadata": {},
   "outputs": [
    {
     "data": {
      "text/plain": [
       "age           0\n",
       "job           0\n",
       "marital       0\n",
       "education     0\n",
       "connect       0\n",
       "balance       0\n",
       "landline      0\n",
       "smart         0\n",
       "last_day      0\n",
       "last_month    0\n",
       "duration      0\n",
       "campaign      0\n",
       "passdays      0\n",
       "previous      0\n",
       "poutcome      0\n",
       "target        0\n",
       "dtype: int64"
      ]
     },
     "execution_count": 3,
     "metadata": {},
     "output_type": "execute_result"
    }
   ],
   "source": [
    "df.isnull().sum()"
   ]
  },
  {
   "cell_type": "code",
   "execution_count": 4,
   "metadata": {},
   "outputs": [],
   "source": [
    "df = df[df.education != \"unknown\"]"
   ]
  },
  {
   "cell_type": "code",
   "execution_count": 5,
   "metadata": {
    "colab": {},
    "colab_type": "code",
    "id": "iTPGrKkSFywb"
   },
   "outputs": [],
   "source": [
    "#Converts all the categorical data to numerical values\n",
    "from sklearn.preprocessing import LabelEncoder\n",
    "le=LabelEncoder()\n",
    "df['job']=le.fit_transform(df['job'])\n",
    "df['marital']=le.fit_transform(df['marital'])\n",
    "df['education']=le.fit_transform(df['education'])\n",
    "df['connect']=le.fit_transform(df['connect'])\n",
    "df['landline']=le.fit_transform(df['landline'])\n",
    "df['smart']=le.fit_transform(df['smart'])\n",
    "df['last_month']=le.fit_transform(df['last_month'])\n",
    "df['poutcome']=le.fit_transform(df['poutcome'])"
   ]
  },
  {
   "cell_type": "code",
   "execution_count": 6,
   "metadata": {},
   "outputs": [],
   "source": [
    "#Split dataframe into Input(X) and Output(Y)\n",
    "X=df.loc[:, df.columns !='target']\n",
    "Y=df.loc[:,df.columns == 'target']"
   ]
  },
  {
   "cell_type": "code",
   "execution_count": 7,
   "metadata": {},
   "outputs": [
    {
     "name": "stderr",
     "output_type": "stream",
     "text": [
      "C:\\ProgramData\\Anaconda3\\lib\\site-packages\\sklearn\\ensemble\\forest.py:246: FutureWarning: The default value of n_estimators will change from 10 in version 0.20 to 100 in 0.22.\n",
      "  \"10 in version 0.20 to 100 in 0.22.\", FutureWarning)\n",
      "C:\\ProgramData\\Anaconda3\\lib\\site-packages\\ipykernel_launcher.py:4: DataConversionWarning: A column-vector y was passed when a 1d array was expected. Please change the shape of y to (n_samples,), for example using ravel().\n",
      "  after removing the cwd from sys.path.\n"
     ]
    },
    {
     "name": "stdout",
     "output_type": "stream",
     "text": [
      "[0.10431168 0.05710417 0.02345374 0.02500529 0.00267591 0.10281656\n",
      " 0.02529568 0.00751719 0.10153962 0.09902577 0.25554274 0.06377042\n",
      " 0.05174988 0.02535746 0.0548339 ]\n"
     ]
    },
    {
     "data": {
      "image/png": "[encoded data removed]",
      "text/plain": [
       "<Figure size 432x288 with 1 Axes>"
      ]
     },
     "metadata": {
      "needs_background": "light"
     },
     "output_type": "display_data"
    }
   ],
   "source": [
    "from sklearn.ensemble import ExtraTreesClassifier\n",
    "import matplotlib.pyplot as plt\n",
    "model = ExtraTreesClassifier()\n",
    "model.fit(X,Y)\n",
    "print(model.feature_importances_) #use inbuilt class feature_importances of tree based classifiers\n",
    "#plot graph of feature importances for better visualization\n",
    "feat_importances = pd.Series(model.feature_importances_, index=X.columns)\n",
    "feat_importances.nlargest(15).plot(kind='barh')\n",
    "plt.show()"
   ]
  },
  {
   "cell_type": "code",
   "execution_count": 19,
   "metadata": {},
   "outputs": [],
   "source": [
    "#Dropped column connect due to least influence on dependent variable target\n",
    "X=X.loc[:, X.columns !='connect']\n",
    "X=X.loc[:, X.columns !='smart']\n",
    "X=X.loc[:, X.columns !='education']\n",
    "X=X.loc[:, X.columns !='landline']\n",
    "X=X.loc[:, X.columns !='poutcome']"
   ]
  },
  {
   "cell_type": "code",
   "execution_count": 20,
   "metadata": {
    "colab": {},
    "colab_type": "code",
    "id": "Ra64qy8cFywq"
   },
   "outputs": [],
   "source": [
    "#Read and dislay Validation data\n",
    "dataset=pd.read_excel(\"Validate Data.xlsx\")\n",
    "dataset.head()\n",
    "dataset = dataset[dataset.education != \"unknown\"]"
   ]
  },
  {
   "cell_type": "code",
   "execution_count": 21,
   "metadata": {
    "colab": {},
    "colab_type": "code",
    "id": "f7UImXnZFyws"
   },
   "outputs": [],
   "source": [
    "#Convert categorical data into numerical values with label encoder\n",
    "dataset['job']=le.fit_transform(dataset['job'])\n",
    "dataset['marital']=le.fit_transform(dataset['marital'])\n",
    "dataset['education']=le.fit_transform(dataset['education'])\n",
    "dataset['connect']=le.fit_transform(dataset['connect'])\n",
    "dataset['landline']=le.fit_transform(dataset['landline'])\n",
    "dataset['smart']=le.fit_transform(dataset['smart'])\n",
    "dataset['last_month']=le.fit_transform(dataset['last_month'])\n",
    "dataset['poutcome']=le.fit_transform(dataset['poutcome'])"
   ]
  },
  {
   "cell_type": "code",
   "execution_count": 22,
   "metadata": {
    "colab": {},
    "colab_type": "code",
    "id": "OhdX2gx6Fywv"
   },
   "outputs": [],
   "source": [
    "#Split into input, output; remove Connect column\n",
    "X_val=dataset.loc[:,dataset.columns != 'target']\n",
    "X_val=X_val.loc[:,X_val.columns != 'connect']\n",
    "X_val=X_val.loc[:,X_val.columns != 'smart']\n",
    "X_val=X_val.loc[:,X_val.columns != 'education']\n",
    "X_val=X_val.loc[:,X_val.columns != 'landline']\n",
    "X_val=X_val.loc[:,X_val.columns != 'poutcome']\n",
    "Y_val=dataset.loc[:,dataset.columns =='target']"
   ]
  },
  {
   "cell_type": "code",
   "execution_count": 23,
   "metadata": {
    "colab": {
     "base_uri": "https://localhost:8080/",
     "height": 212
    },
    "colab_type": "code",
    "id": "oJgdzTHnFywx",
    "outputId": "51915942-3f2e-4b8f-af45-ee0526f96135"
   },
   "outputs": [
    {
     "name": "stderr",
     "output_type": "stream",
     "text": [
      "C:\\ProgramData\\Anaconda3\\lib\\site-packages\\ipykernel_launcher.py:4: DataConversionWarning: A column-vector y was passed when a 1d array was expected. Please change the shape of y to (n_samples,), for example using ravel().\n",
      "  after removing the cwd from sys.path.\n"
     ]
    },
    {
     "data": {
      "text/plain": [
       "RandomForestClassifier(bootstrap=True, class_weight=None, criterion='gini',\n",
       "            max_depth=None, max_features='auto', max_leaf_nodes=None,\n",
       "            min_impurity_decrease=0.0, min_impurity_split=None,\n",
       "            min_samples_leaf=1, min_samples_split=2,\n",
       "            min_weight_fraction_leaf=0.0, n_estimators=20, n_jobs=None,\n",
       "            oob_score=False, random_state=0, verbose=0, warm_start=False)"
      ]
     },
     "execution_count": 23,
     "metadata": {},
     "output_type": "execute_result"
    }
   ],
   "source": [
    "#Create a random forest classifier and train model\n",
    "from sklearn.ensemble import RandomForestClassifier\n",
    "classifier = RandomForestClassifier(n_estimators=20, random_state=0)\n",
    "classifier.fit(X, Y)"
   ]
  },
  {
   "cell_type": "code",
   "execution_count": 24,
   "metadata": {},
   "outputs": [
    {
     "name": "stdout",
     "output_type": "stream",
     "text": [
      "[0 0 0 ... 0 0 0]\n"
     ]
    }
   ],
   "source": [
    "#Perform predictions on validation\n",
    "y_pred = classifier.predict(X_val)\n",
    "print(y_pred)"
   ]
  },
  {
   "cell_type": "code",
   "execution_count": 25,
   "metadata": {
    "colab": {
     "base_uri": "https://localhost:8080/",
     "height": 235
    },
    "colab_type": "code",
    "id": "ZQ57Ue1NFyw0",
    "outputId": "4b0422a9-043b-43e2-d313-8e1bbd0a2341"
   },
   "outputs": [
    {
     "name": "stdout",
     "output_type": "stream",
     "text": [
      "[[3814   18]\n",
      " [  41  461]]\n",
      "              precision    recall  f1-score   support\n",
      "\n",
      "           0       0.99      1.00      0.99      3832\n",
      "           1       0.96      0.92      0.94       502\n",
      "\n",
      "   micro avg       0.99      0.99      0.99      4334\n",
      "   macro avg       0.98      0.96      0.97      4334\n",
      "weighted avg       0.99      0.99      0.99      4334\n",
      "\n",
      "0.9863867097369635\n"
     ]
    }
   ],
   "source": [
    "from sklearn.metrics import classification_report, confusion_matrix, accuracy_score\n",
    "print(confusion_matrix(Y_val,y_pred))\n",
    "print(classification_report(Y_val,y_pred))\n",
    "print(accuracy_score(Y_val, y_pred))"
   ]
  },
  {
   "cell_type": "code",
   "execution_count": 26,
   "metadata": {
    "colab": {
     "base_uri": "https://localhost:8080/",
     "height": 34
    },
    "colab_type": "code",
    "id": "4IohBiFrldY3",
    "outputId": "4164cbe4-a901-4c93-9b1c-6ae2388907a7"
   },
   "outputs": [
    {
     "data": {
      "text/plain": [
       "0.9568147036072828"
      ]
     },
     "execution_count": 26,
     "metadata": {},
     "output_type": "execute_result"
    }
   ],
   "source": [
    "from sklearn.metrics import precision_score, recall_score, roc_auc_score, roc_curve\n",
    "\n",
    "roc_auc_score(Y_val, y_pred)"
   ]
  },
  {
   "cell_type": "code",
   "execution_count": 16,
   "metadata": {
    "colab": {
     "base_uri": "https://localhost:8080/",
     "height": 295
    },
    "colab_type": "code",
    "id": "wqF5_lWupouk",
    "outputId": "aaa5a577-4400-499c-f70e-bf0985315de8"
   },
   "outputs": [
    {
     "data": {
      "image/png": "[encoded data removed]",
      "text/plain": [
       "<Figure size 432x288 with 1 Axes>"
      ]
     },
     "metadata": {
      "needs_background": "light"
     },
     "output_type": "display_data"
    }
   ],
   "source": [
    "import sklearn.metrics as metrics\n",
    "# calculate the fpr and tpr for all thresholds of the classification\n",
    "fpr, tpr, threshold = metrics.roc_curve(Y_val, y_pred)\n",
    "roc_auc = metrics.auc(fpr, tpr)\n",
    "\n",
    "# method I: plt\n",
    "import matplotlib.pyplot as plt\n",
    "plt.title('Receiver Operating Characteristic')\n",
    "plt.plot(fpr, tpr, 'b', label = 'AUC = %0.2f' % roc_auc)\n",
    "plt.legend(loc = 'lower right')\n",
    "plt.plot([0, 1], [0, 1],'r--')\n",
    "plt.xlim([0, 1])\n",
    "plt.ylim([0, 1])\n",
    "plt.ylabel('True Positive Rate')\n",
    "plt.xlabel('False Positive Rate')\n",
    "plt.show()"
   ]
  },
  {
   "cell_type": "code",
   "execution_count": 18,
   "metadata": {},
   "outputs": [
    {
     "name": "stdout",
     "output_type": "stream",
     "text": [
      "[[3525  307]\n",
      " [ 325  177]]\n",
      "              precision    recall  f1-score   support\n",
      "\n",
      "           0       0.92      0.92      0.92      3832\n",
      "           1       0.37      0.35      0.36       502\n",
      "\n",
      "   micro avg       0.85      0.85      0.85      4334\n",
      "   macro avg       0.64      0.64      0.64      4334\n",
      "weighted avg       0.85      0.85      0.85      4334\n",
      "\n",
      "0.8541762805722196\n"
     ]
    },
    {
     "name": "stderr",
     "output_type": "stream",
     "text": [
      "C:\\ProgramData\\Anaconda3\\lib\\site-packages\\sklearn\\utils\\validation.py:761: DataConversionWarning: A column-vector y was passed when a 1d array was expected. Please change the shape of y to (n_samples, ), for example using ravel().\n",
      "  y = column_or_1d(y, warn=True)\n"
     ]
    }
   ],
   "source": [
    "#For comparison, we use Naive Bayes :\n",
    "from sklearn.naive_bayes import GaussianNB \n",
    "gnb = GaussianNB() \n",
    "gnb.fit(X, Y) \n",
    "y_pred = gnb.predict(X_val) \n",
    "  \n",
    "# comparing actual response values (y_test) with predicted response values (y_pred) \n",
    "from sklearn.metrics import classification_report, confusion_matrix, accuracy_score\n",
    "print(confusion_matrix(Y_val,y_pred))\n",
    "print(classification_report(Y_val,y_pred))\n",
    "print(accuracy_score(Y_val, y_pred))"
   ]
  },
  {
   "cell_type": "code",
   "execution_count": 60,
   "metadata": {},
   "outputs": [
    {
     "data": {
      "image/png": "[encoded data removed]",
      "text/plain": [
       "<Figure size 432x288 with 1 Axes>"
      ]
     },
     "metadata": {
      "needs_background": "light"
     },
     "output_type": "display_data"
    }
   ],
   "source": [
    "import sklearn.metrics as metrics\n",
    "# calculate the fpr and tpr for all thresholds of the classification\n",
    "fpr, tpr, threshold = metrics.roc_curve(Y_val, y_pred)\n",
    "roc_auc = metrics.auc(fpr, tpr)\n",
    "\n",
    "# method I: plt\n",
    "import matplotlib.pyplot as plt\n",
    "plt.title('Receiver Operating Characteristic')\n",
    "plt.plot(fpr, tpr, 'b', label = 'AUC = %0.2f' % roc_auc)\n",
    "plt.legend(loc = 'lower right')\n",
    "plt.plot([0, 1], [0, 1],'r--')\n",
    "plt.xlim([0, 1])\n",
    "plt.ylim([0, 1])\n",
    "plt.ylabel('True Positive Rate')\n",
    "plt.xlabel('False Positive Rate')\n",
    "plt.show()"
   ]
  },
  {
   "cell_type": "code",
   "execution_count": 40,
   "metadata": {},
   "outputs": [
    {
     "name": "stdout",
     "output_type": "stream",
     "text": [
      "[0 0 0 ... 0 0 0]\n",
      "[[3817   15]\n",
      " [  41  461]]\n",
      "              precision    recall  f1-score   support\n",
      "\n",
      "           0       0.99      1.00      0.99      3832\n",
      "           1       0.97      0.92      0.94       502\n",
      "\n",
      "   micro avg       0.99      0.99      0.99      4334\n",
      "   macro avg       0.98      0.96      0.97      4334\n",
      "weighted avg       0.99      0.99      0.99      4334\n",
      "\n",
      "0.9870789109367789\n"
     ]
    }
   ],
   "source": [
    "#TEST DATA\n",
    "test=pd.read_excel(\"ENTER YOUR TEST FILE PATH HERE\")\n",
    "test.head()\n",
    "test = test[test.education != \"unknown\"]\n",
    "#Convert categorical data into numerical values with label encoder\n",
    "test['job']=le.fit_transform(test['job'])\n",
    "test['marital']=le.fit_transform(test['marital'])\n",
    "test['education']=le.fit_transform(test['education'])\n",
    "test['connect']=le.fit_transform(test['connect'])\n",
    "test['landline']=le.fit_transform(test['landline'])\n",
    "test['smart']=le.fit_transform(test['smart'])\n",
    "test['last_month']=le.fit_transform(test['last_month'])\n",
    "test['poutcome']=le.fit_transform(test['poutcome'])\n",
    "\n",
    "X_test=dataset.loc[:,test.columns != 'target']\n",
    "X_test=X_test.loc[:,X_test.columns != 'connect']\n",
    "Y_test=test.loc[:,test.columns =='target']\n",
    "preds = classifier.predict(X_test)\n",
    "print(preds)\n",
    "print(confusion_matrix(Y_test,preds))\n",
    "print(classification_report(Y_test,preds))\n",
    "print(accuracy_score(Y_test, preds))"
   ]
  },
  {
   "cell_type": "code",
   "execution_count": null,
   "metadata": {},
   "outputs": [],
   "source": []
  }
 ],
 "metadata": {
  "colab": {
   "name": "Random Forest.ipynb",
   "provenance": []
  },
  "kernelspec": {
   "display_name": "Python 3",
   "language": "python",
   "name": "python3"
  },
  "language_info": {
   "codemirror_mode": {
    "name": "ipython",
    "version": 3
   },
   "file_extension": ".py",
   "mimetype": "text/x-python",
   "name": "python",
   "nbconvert_exporter": "python",
   "pygments_lexer": "ipython3",
   "version": "3.7.3"
  }
 },
 "nbformat": 4,
 "nbformat_minor": 1
}
